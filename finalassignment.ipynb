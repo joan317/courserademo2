{
 "cells": [
  {
   "cell_type": "markdown",
   "metadata": {
    "collapsed": true
   },
   "source": [
    "<H1> My Jupyter Notebook on IBM Watson Studio </H1>"
   ]
  },
  {
   "cell_type": "markdown",
   "metadata": {},
   "source": [
    "<b>Joan Peralta</b><br>\n",
    "Data Enthusiast"
   ]
  },
  {
   "cell_type": "markdown",
   "metadata": {},
   "source": [
    "<i><p>\"I am interested in Data Science because one can get insights from data. There exists an abundance of data but only few can derive meaningful insights from the data.\" </p></i>"
   ]
  },
  {
   "cell_type": "markdown",
   "metadata": {},
   "source": [
    "\n",
    "<h3>The following code shows the fibonacci sequence:</h3>"
   ]
  },
  {
   "cell_type": "code",
   "execution_count": 9,
   "metadata": {},
   "outputs": [
    {
     "name": "stdout",
     "output_type": "stream",
     "text": [
      "Fibonacci Sequence:\n",
      "\n",
      "1 1 2 3 5 8 13 21 34 55 "
     ]
    }
   ],
   "source": [
    "#initialization\n",
    "n = 10\n",
    "a = 0\n",
    "b = 1\n",
    "sum = 0\n",
    "count = 1\n",
    "end = \"\"\n",
    "print(\"Fibonacci Sequence:\\n\")\n",
    "#loop while count is less than n \n",
    "while(count <=n):\n",
    "    # update counter\n",
    "    count += 1\n",
    "    # a gets the next value in the sequence\n",
    "    a = b\n",
    "    # b gets the next value in the sequence\n",
    "    b = sum\n",
    "    # sum gets the previous value plus the next value in the sequence\n",
    "    sum = a + b\n",
    "    # print the sum in a sequence separated by space\n",
    "    print(sum,end=\" \")"
   ]
  },
  {
   "cell_type": "markdown",
   "metadata": {},
   "source": [
    "\n",
    "|Data Science Tools|Language|Open-source|IBM Tools|\n",
    "|----|----|----|----|\n",
    "|Programming|Python|Jupyter Notebook|Watson Studio|\n",
    "|Data Visualization|R|RStudio|SPSS Modeler|\n",
    "|Data Management|SQL||Data Refinery|\n",
    "|Data Repository||Github||\n",
    "|Data Modeling|||AutoAI|\n",
    "|Data Deployment|||OpenScale|"
   ]
  },
  {
   "cell_type": "markdown",
   "metadata": {},
   "source": [
    "*****"
   ]
  },
  {
   "cell_type": "markdown",
   "metadata": {},
   "source": [
    "1. Jupyter Notebook\n",
    "2. RStudio IDE\n",
    "3. Git and Github\n"
   ]
  },
  {
   "cell_type": "markdown",
   "metadata": {},
   "source": [
    "* IBM Watson Studio\n",
    "* IBM Watson Knowledge Catalog\n",
    "* Data Refinery\n",
    "* IBM SPSS Modeler\n",
    "* AutoAI\n",
    "* OpenScale"
   ]
  },
  {
   "cell_type": "markdown",
   "metadata": {},
   "source": [
    "<a href=\"https://www.ibm.com/cloud\">IBM Cloud</a>"
   ]
  },
  {
   "cell_type": "code",
   "execution_count": null,
   "metadata": {},
   "outputs": [],
   "source": []
  }
 ],
 "metadata": {
  "kernelspec": {
   "display_name": "Python 3.10",
   "language": "python",
   "name": "python3"
  },
  "language_info": {
   "codemirror_mode": {
    "name": "ipython",
    "version": 3
   },
   "file_extension": ".py",
   "mimetype": "text/x-python",
   "name": "python",
   "nbconvert_exporter": "python",
   "pygments_lexer": "ipython3",
   "version": "3.10.6"
  }
 },
 "nbformat": 4,
 "nbformat_minor": 1
}
